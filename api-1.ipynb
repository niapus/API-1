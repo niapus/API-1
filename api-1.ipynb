{
 "cells": [
  {
   "cell_type": "code",
   "execution_count": 2,
   "metadata": {},
   "outputs": [],
   "source": [
    "import requests\n",
    "\n",
    "main_url = 'https://fakestoreapi.com'"
   ]
  },
  {
   "cell_type": "markdown",
   "metadata": {},
   "source": [
    "Продукты, цена которых <20:"
   ]
  },
  {
   "cell_type": "code",
   "execution_count": 3,
   "metadata": {},
   "outputs": [
    {
     "name": "stdout",
     "output_type": "stream",
     "text": [
      "[{'id': 4, 'title': 'Mens Casual Slim Fit', 'price': 15.99, 'description': 'The color could be slightly different between on the screen and in practice. / Please note that body builds vary by person, therefore, detailed size information should be reviewed below on the product description.', 'category': \"men's clothing\", 'image': 'https://fakestoreapi.com/img/71YXzeOuslL._AC_UY879_.jpg', 'rating': {'rate': 2.1, 'count': 430}}, {'id': 7, 'title': 'White Gold Plated Princess', 'price': 9.99, 'description': \"Classic Created Wedding Engagement Solitaire Diamond Promise Ring for Her. Gifts to spoil your love more for Engagement, Wedding, Anniversary, Valentine's Day...\", 'category': 'jewelery', 'image': 'https://fakestoreapi.com/img/71YAIFU48IL._AC_UL640_QL65_ML3_.jpg', 'rating': {'rate': 3, 'count': 400}}, {'id': 8, 'title': 'Pierced Owl Rose Gold Plated Stainless Steel Double', 'price': 10.99, 'description': 'Rose Gold Plated Double Flared Tunnel Plug Earrings. Made of 316L Stainless Steel', 'category': 'jewelery', 'image': 'https://fakestoreapi.com/img/51UDEzMJVpL._AC_UL640_QL65_ML3_.jpg', 'rating': {'rate': 1.9, 'count': 100}}, {'id': 18, 'title': \"MBJ Women's Solid Short Sleeve Boat Neck V \", 'price': 9.85, 'description': '95% RAYON 5% SPANDEX, Made in USA or Imported, Do Not Bleach, Lightweight fabric with great stretch for comfort, Ribbed on sleeves and neckline / Double stitching on bottom hem', 'category': \"women's clothing\", 'image': 'https://fakestoreapi.com/img/71z3kpMAYsL._AC_UY879_.jpg', 'rating': {'rate': 4.7, 'count': 130}}, {'id': 19, 'title': \"Opna Women's Short Sleeve Moisture\", 'price': 7.95, 'description': '100% Polyester, Machine wash, 100% cationic polyester interlock, Machine Wash & Pre Shrunk for a Great Fit, Lightweight, roomy and highly breathable with moisture wicking fabric which helps to keep moisture away, Soft Lightweight Fabric with comfortable V-neck collar and a slimmer fit, delivers a sleek, more feminine silhouette and Added Comfort', 'category': \"women's clothing\", 'image': 'https://fakestoreapi.com/img/51eg55uWmdL._AC_UX679_.jpg', 'rating': {'rate': 4.5, 'count': 146}}, {'id': 20, 'title': 'DANVOUY Womens T Shirt Casual Cotton Short', 'price': 12.99, 'description': '95%Cotton,5%Spandex, Features: Casual, Short Sleeve, Letter Print,V-Neck,Fashion Tees, The fabric is soft and has some stretch., Occasion: Casual/Office/Beach/School/Home/Street. Season: Spring,Summer,Autumn,Winter.', 'category': \"women's clothing\", 'image': 'https://fakestoreapi.com/img/61pHAEJ4NML._AC_UX679_.jpg', 'rating': {'rate': 3.6, 'count': 145}}]\n"
     ]
    }
   ],
   "source": [
    "res_products = requests.get(f'{main_url}/products')\n",
    "products = res_products.json()\n",
    "print([product for product in products if product['price'] < 20])"
   ]
  },
  {
   "cell_type": "markdown",
   "metadata": {},
   "source": [
    "Все категории:"
   ]
  },
  {
   "cell_type": "code",
   "execution_count": 4,
   "metadata": {},
   "outputs": [
    {
     "name": "stdout",
     "output_type": "stream",
     "text": [
      "['electronics', 'jewelery', \"men's clothing\", \"women's clothing\"]\n"
     ]
    }
   ],
   "source": [
    "res_categories = requests.get(f'{main_url}/products/categories')\n",
    "print(res_categories.json())"
   ]
  },
  {
   "cell_type": "markdown",
   "metadata": {},
   "source": [
    "Все продукты с категорией  \"jewelery\":"
   ]
  },
  {
   "cell_type": "code",
   "execution_count": 5,
   "metadata": {},
   "outputs": [
    {
     "name": "stdout",
     "output_type": "stream",
     "text": [
      "[{'id': 5, 'title': \"John Hardy Women's Legends Naga Gold & Silver Dragon Station Chain Bracelet\", 'price': 695, 'description': \"From our Legends Collection, the Naga was inspired by the mythical water dragon that protects the ocean's pearl. Wear facing inward to be bestowed with love and abundance, or outward for protection.\", 'category': 'jewelery', 'image': 'https://fakestoreapi.com/img/71pWzhdJNwL._AC_UL640_QL65_ML3_.jpg', 'rating': {'rate': 4.6, 'count': 400}}, {'id': 6, 'title': 'Solid Gold Petite Micropave ', 'price': 168, 'description': 'Satisfaction Guaranteed. Return or exchange any order within 30 days.Designed and sold by Hafeez Center in the United States. Satisfaction Guaranteed. Return or exchange any order within 30 days.', 'category': 'jewelery', 'image': 'https://fakestoreapi.com/img/61sbMiUnoGL._AC_UL640_QL65_ML3_.jpg', 'rating': {'rate': 3.9, 'count': 70}}, {'id': 7, 'title': 'White Gold Plated Princess', 'price': 9.99, 'description': \"Classic Created Wedding Engagement Solitaire Diamond Promise Ring for Her. Gifts to spoil your love more for Engagement, Wedding, Anniversary, Valentine's Day...\", 'category': 'jewelery', 'image': 'https://fakestoreapi.com/img/71YAIFU48IL._AC_UL640_QL65_ML3_.jpg', 'rating': {'rate': 3, 'count': 400}}, {'id': 8, 'title': 'Pierced Owl Rose Gold Plated Stainless Steel Double', 'price': 10.99, 'description': 'Rose Gold Plated Double Flared Tunnel Plug Earrings. Made of 316L Stainless Steel', 'category': 'jewelery', 'image': 'https://fakestoreapi.com/img/51UDEzMJVpL._AC_UL640_QL65_ML3_.jpg', 'rating': {'rate': 1.9, 'count': 100}}]\n"
     ]
    }
   ],
   "source": [
    "res_jewelery = requests.get(f'{main_url}/products/category/jewelery')\n",
    "print(res_jewelery.json())"
   ]
  },
  {
   "cell_type": "markdown",
   "metadata": {},
   "source": [
    "Вывод всех пользователей:"
   ]
  },
  {
   "cell_type": "code",
   "execution_count": 6,
   "metadata": {},
   "outputs": [
    {
     "name": "stdout",
     "output_type": "stream",
     "text": [
      "[{'address': {'geolocation': {'lat': '-37.3159', 'long': '81.1496'}, 'city': 'kilcoole', 'street': 'new road', 'number': 7682, 'zipcode': '12926-3874'}, 'id': 1, 'email': 'john@gmail.com', 'username': 'johnd', 'password': 'm38rmF$', 'name': {'firstname': 'john', 'lastname': 'doe'}, 'phone': '1-570-236-7033', '__v': 0}, {'address': {'geolocation': {'lat': '-37.3159', 'long': '81.1496'}, 'city': 'kilcoole', 'street': 'Lovers Ln', 'number': 7267, 'zipcode': '12926-3874'}, 'id': 2, 'email': 'morrison@gmail.com', 'username': 'mor_2314', 'password': '83r5^_', 'name': {'firstname': 'david', 'lastname': 'morrison'}, 'phone': '1-570-236-7033', '__v': 0}, {'address': {'geolocation': {'lat': '40.3467', 'long': '-30.1310'}, 'city': 'Cullman', 'street': 'Frances Ct', 'number': 86, 'zipcode': '29567-1452'}, 'id': 3, 'email': 'kevin@gmail.com', 'username': 'kevinryan', 'password': 'kev02937@', 'name': {'firstname': 'kevin', 'lastname': 'ryan'}, 'phone': '1-567-094-1345', '__v': 0}, {'address': {'geolocation': {'lat': '50.3467', 'long': '-20.1310'}, 'city': 'San Antonio', 'street': 'Hunters Creek Dr', 'number': 6454, 'zipcode': '98234-1734'}, 'id': 4, 'email': 'don@gmail.com', 'username': 'donero', 'password': 'ewedon', 'name': {'firstname': 'don', 'lastname': 'romer'}, 'phone': '1-765-789-6734', '__v': 0}, {'address': {'geolocation': {'lat': '40.3467', 'long': '-40.1310'}, 'city': 'san Antonio', 'street': 'adams St', 'number': 245, 'zipcode': '80796-1234'}, 'id': 5, 'email': 'derek@gmail.com', 'username': 'derek', 'password': 'jklg*_56', 'name': {'firstname': 'derek', 'lastname': 'powell'}, 'phone': '1-956-001-1945', '__v': 0}, {'address': {'geolocation': {'lat': '20.1677', 'long': '-10.6789'}, 'city': 'el paso', 'street': 'prospect st', 'number': 124, 'zipcode': '12346-0456'}, 'id': 6, 'email': 'david_r@gmail.com', 'username': 'david_r', 'password': '3478*#54', 'name': {'firstname': 'david', 'lastname': 'russell'}, 'phone': '1-678-345-9856', '__v': 0}, {'address': {'geolocation': {'lat': '10.3456', 'long': '20.6419'}, 'city': 'fresno', 'street': 'saddle st', 'number': 1342, 'zipcode': '96378-0245'}, 'id': 7, 'email': 'miriam@gmail.com', 'username': 'snyder', 'password': 'f238&@*$', 'name': {'firstname': 'miriam', 'lastname': 'snyder'}, 'phone': '1-123-943-0563', '__v': 0}, {'address': {'geolocation': {'lat': '50.3456', 'long': '10.6419'}, 'city': 'mesa', 'street': 'vally view ln', 'number': 1342, 'zipcode': '96378-0245'}, 'id': 8, 'email': 'william@gmail.com', 'username': 'hopkins', 'password': 'William56$hj', 'name': {'firstname': 'william', 'lastname': 'hopkins'}, 'phone': '1-478-001-0890', '__v': 0}, {'address': {'geolocation': {'lat': '40.12456', 'long': '20.5419'}, 'city': 'miami', 'street': 'avondale ave', 'number': 345, 'zipcode': '96378-0245'}, 'id': 9, 'email': 'kate@gmail.com', 'username': 'kate_h', 'password': 'kfejk@*_', 'name': {'firstname': 'kate', 'lastname': 'hale'}, 'phone': '1-678-456-1934', '__v': 0}, {'address': {'geolocation': {'lat': '30.24788', 'long': '-20.545419'}, 'city': 'fort wayne', 'street': 'oak lawn ave', 'number': 526, 'zipcode': '10256-4532'}, 'id': 10, 'email': 'jimmie@gmail.com', 'username': 'jimmie_k', 'password': 'klein*#%*', 'name': {'firstname': 'jimmie', 'lastname': 'klein'}, 'phone': '1-104-001-4567', '__v': 0}]\n"
     ]
    }
   ],
   "source": [
    "res_users = requests.get(f'{main_url}/users')\n",
    "print(res_users.json())"
   ]
  },
  {
   "cell_type": "markdown",
   "metadata": {},
   "source": [
    "Добавление пользователя:"
   ]
  },
  {
   "cell_type": "code",
   "execution_count": 7,
   "metadata": {},
   "outputs": [
    {
     "name": "stdout",
     "output_type": "stream",
     "text": [
      "{'id': 11}\n"
     ]
    }
   ],
   "source": [
    "new_user = {\n",
    "    \"name\": {\n",
    "        \"firstname\": \"Илья\",\n",
    "        \"lastname\": \"Зорин\"\n",
    "    },\n",
    "}\n",
    "\n",
    "response = requests.post(f'{main_url}/users', json=new_user)\n",
    "print(response.json())"
   ]
  }
 ],
 "metadata": {
  "kernelspec": {
   "display_name": "Python 3",
   "language": "python",
   "name": "python3"
  },
  "language_info": {
   "codemirror_mode": {
    "name": "ipython",
    "version": 3
   },
   "file_extension": ".py",
   "mimetype": "text/x-python",
   "name": "python",
   "nbconvert_exporter": "python",
   "pygments_lexer": "ipython3",
   "version": "3.10.4"
  }
 },
 "nbformat": 4,
 "nbformat_minor": 2
}
